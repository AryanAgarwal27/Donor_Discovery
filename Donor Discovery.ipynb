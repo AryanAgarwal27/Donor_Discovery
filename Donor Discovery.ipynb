{
 "cells": [
  {
   "cell_type": "markdown",
   "metadata": {},
   "source": [
    "# Supervised Machine Learning Project : Donor Discovery \n",
    "\n",
    "In this project, we will evaluate various supervised learning algorithms to effectively model individuals' income using data from the 1994 U.S. Census. Our main goal is to develop a model that can accurately predict whether a person earns more than $50,000 annually. This endeavor is particularly valuable for non-profit organizations, as understanding the income levels of potential donors can guide their donation solicitation strategies. By utilizing publicly available data, we can estimate income brackets, helping non-profits make better decisions about whom to approach and what donation amounts to request.\n",
    "\n",
    "The dataset for this analysis comes from the UCI Machine Learning Repository, initially contributed by Ron Kohavi and Barry Becker. It was highlighted in Ron Kohavi's article, \"Scaling Up the Accuracy of Naive-Bayes Classifiers: A Decision-Tree Hybrid.\" For our project, we have made minor adjustments to the original dataset, such as excluding the 'fnlwgt' feature and removing records with missing or poorly formatted entries. We will identify the most effective algorithm through preliminary testing and then refine this algorithm to improve its predictive performance."
   ]
  },
  {
   "cell_type": "markdown",
   "metadata": {},
   "source": [
    "### Exploring the Data\n",
    "Let's start with importing the necessary libaries, reading in the data, and checking out the dataset.\n",
    "\n",
    "Note that the last column from this dataset, 'income', will be our target label (whether an individual makes more than, or at most, $50,000 annually). All other columns are features about each individual in the census database."
   ]
  },
  {
   "cell_type": "code",
   "execution_count": 6,
   "metadata": {},
   "outputs": [],
   "source": [
    "import numpy as np\n",
    "import pandas as pd\n",
    "import matplotlib.pyplot as plt \n",
    "import seaborn as sns \n",
    "\n",
    "df = pd.read_csv(\"Dataset.csv\")\n"
   ]
  },
  {
   "cell_type": "code",
   "execution_count": 7,
   "metadata": {},
   "outputs": [
    {
     "data": {
      "text/html": [
       "<div>\n",
       "<style scoped>\n",
       "    .dataframe tbody tr th:only-of-type {\n",
       "        vertical-align: middle;\n",
       "    }\n",
       "\n",
       "    .dataframe tbody tr th {\n",
       "        vertical-align: top;\n",
       "    }\n",
       "\n",
       "    .dataframe thead th {\n",
       "        text-align: right;\n",
       "    }\n",
       "</style>\n",
       "<table border=\"1\" class=\"dataframe\">\n",
       "  <thead>\n",
       "    <tr style=\"text-align: right;\">\n",
       "      <th></th>\n",
       "      <th>age</th>\n",
       "      <th>workclass</th>\n",
       "      <th>education_level</th>\n",
       "      <th>education-num</th>\n",
       "      <th>marital-status</th>\n",
       "      <th>occupation</th>\n",
       "      <th>relationship</th>\n",
       "      <th>race</th>\n",
       "      <th>sex</th>\n",
       "      <th>capital-gain</th>\n",
       "      <th>capital-loss</th>\n",
       "      <th>hours-per-week</th>\n",
       "      <th>native-country</th>\n",
       "      <th>income</th>\n",
       "    </tr>\n",
       "  </thead>\n",
       "  <tbody>\n",
       "    <tr>\n",
       "      <th>0</th>\n",
       "      <td>39</td>\n",
       "      <td>State-gov</td>\n",
       "      <td>Bachelors</td>\n",
       "      <td>13.0</td>\n",
       "      <td>Never-married</td>\n",
       "      <td>Adm-clerical</td>\n",
       "      <td>Not-in-family</td>\n",
       "      <td>White</td>\n",
       "      <td>Male</td>\n",
       "      <td>2174.0</td>\n",
       "      <td>0.0</td>\n",
       "      <td>40.0</td>\n",
       "      <td>United-States</td>\n",
       "      <td>&lt;=50K</td>\n",
       "    </tr>\n",
       "    <tr>\n",
       "      <th>1</th>\n",
       "      <td>50</td>\n",
       "      <td>Self-emp-not-inc</td>\n",
       "      <td>Bachelors</td>\n",
       "      <td>13.0</td>\n",
       "      <td>Married-civ-spouse</td>\n",
       "      <td>Exec-managerial</td>\n",
       "      <td>Husband</td>\n",
       "      <td>White</td>\n",
       "      <td>Male</td>\n",
       "      <td>0.0</td>\n",
       "      <td>0.0</td>\n",
       "      <td>13.0</td>\n",
       "      <td>United-States</td>\n",
       "      <td>&lt;=50K</td>\n",
       "    </tr>\n",
       "    <tr>\n",
       "      <th>2</th>\n",
       "      <td>38</td>\n",
       "      <td>Private</td>\n",
       "      <td>HS-grad</td>\n",
       "      <td>9.0</td>\n",
       "      <td>Divorced</td>\n",
       "      <td>Handlers-cleaners</td>\n",
       "      <td>Not-in-family</td>\n",
       "      <td>White</td>\n",
       "      <td>Male</td>\n",
       "      <td>0.0</td>\n",
       "      <td>0.0</td>\n",
       "      <td>40.0</td>\n",
       "      <td>United-States</td>\n",
       "      <td>&lt;=50K</td>\n",
       "    </tr>\n",
       "    <tr>\n",
       "      <th>3</th>\n",
       "      <td>53</td>\n",
       "      <td>Private</td>\n",
       "      <td>11th</td>\n",
       "      <td>7.0</td>\n",
       "      <td>Married-civ-spouse</td>\n",
       "      <td>Handlers-cleaners</td>\n",
       "      <td>Husband</td>\n",
       "      <td>Black</td>\n",
       "      <td>Male</td>\n",
       "      <td>0.0</td>\n",
       "      <td>0.0</td>\n",
       "      <td>40.0</td>\n",
       "      <td>United-States</td>\n",
       "      <td>&lt;=50K</td>\n",
       "    </tr>\n",
       "    <tr>\n",
       "      <th>4</th>\n",
       "      <td>28</td>\n",
       "      <td>Private</td>\n",
       "      <td>Bachelors</td>\n",
       "      <td>13.0</td>\n",
       "      <td>Married-civ-spouse</td>\n",
       "      <td>Prof-specialty</td>\n",
       "      <td>Wife</td>\n",
       "      <td>Black</td>\n",
       "      <td>Female</td>\n",
       "      <td>0.0</td>\n",
       "      <td>0.0</td>\n",
       "      <td>40.0</td>\n",
       "      <td>Cuba</td>\n",
       "      <td>&lt;=50K</td>\n",
       "    </tr>\n",
       "  </tbody>\n",
       "</table>\n",
       "</div>"
      ],
      "text/plain": [
       "   age          workclass education_level  education-num       marital-status  \\\n",
       "0   39          State-gov       Bachelors           13.0        Never-married   \n",
       "1   50   Self-emp-not-inc       Bachelors           13.0   Married-civ-spouse   \n",
       "2   38            Private         HS-grad            9.0             Divorced   \n",
       "3   53            Private            11th            7.0   Married-civ-spouse   \n",
       "4   28            Private       Bachelors           13.0   Married-civ-spouse   \n",
       "\n",
       "           occupation    relationship    race      sex  capital-gain  \\\n",
       "0        Adm-clerical   Not-in-family   White     Male        2174.0   \n",
       "1     Exec-managerial         Husband   White     Male           0.0   \n",
       "2   Handlers-cleaners   Not-in-family   White     Male           0.0   \n",
       "3   Handlers-cleaners         Husband   Black     Male           0.0   \n",
       "4      Prof-specialty            Wife   Black   Female           0.0   \n",
       "\n",
       "   capital-loss  hours-per-week  native-country income  \n",
       "0           0.0            40.0   United-States  <=50K  \n",
       "1           0.0            13.0   United-States  <=50K  \n",
       "2           0.0            40.0   United-States  <=50K  \n",
       "3           0.0            40.0   United-States  <=50K  \n",
       "4           0.0            40.0            Cuba  <=50K  "
      ]
     },
     "execution_count": 7,
     "metadata": {},
     "output_type": "execute_result"
    }
   ],
   "source": [
    "df.head()"
   ]
  },
  {
   "cell_type": "code",
   "execution_count": 8,
   "metadata": {},
   "outputs": [
    {
     "data": {
      "text/html": [
       "<div>\n",
       "<style scoped>\n",
       "    .dataframe tbody tr th:only-of-type {\n",
       "        vertical-align: middle;\n",
       "    }\n",
       "\n",
       "    .dataframe tbody tr th {\n",
       "        vertical-align: top;\n",
       "    }\n",
       "\n",
       "    .dataframe thead th {\n",
       "        text-align: right;\n",
       "    }\n",
       "</style>\n",
       "<table border=\"1\" class=\"dataframe\">\n",
       "  <thead>\n",
       "    <tr style=\"text-align: right;\">\n",
       "      <th></th>\n",
       "      <th>age</th>\n",
       "      <th>education-num</th>\n",
       "      <th>capital-gain</th>\n",
       "      <th>capital-loss</th>\n",
       "      <th>hours-per-week</th>\n",
       "    </tr>\n",
       "  </thead>\n",
       "  <tbody>\n",
       "    <tr>\n",
       "      <th>count</th>\n",
       "      <td>45222.000000</td>\n",
       "      <td>45222.000000</td>\n",
       "      <td>45222.000000</td>\n",
       "      <td>45222.000000</td>\n",
       "      <td>45222.000000</td>\n",
       "    </tr>\n",
       "    <tr>\n",
       "      <th>mean</th>\n",
       "      <td>38.547941</td>\n",
       "      <td>10.118460</td>\n",
       "      <td>1101.430344</td>\n",
       "      <td>88.595418</td>\n",
       "      <td>40.938017</td>\n",
       "    </tr>\n",
       "    <tr>\n",
       "      <th>std</th>\n",
       "      <td>13.217870</td>\n",
       "      <td>2.552881</td>\n",
       "      <td>7506.430084</td>\n",
       "      <td>404.956092</td>\n",
       "      <td>12.007508</td>\n",
       "    </tr>\n",
       "    <tr>\n",
       "      <th>min</th>\n",
       "      <td>17.000000</td>\n",
       "      <td>1.000000</td>\n",
       "      <td>0.000000</td>\n",
       "      <td>0.000000</td>\n",
       "      <td>1.000000</td>\n",
       "    </tr>\n",
       "    <tr>\n",
       "      <th>25%</th>\n",
       "      <td>28.000000</td>\n",
       "      <td>9.000000</td>\n",
       "      <td>0.000000</td>\n",
       "      <td>0.000000</td>\n",
       "      <td>40.000000</td>\n",
       "    </tr>\n",
       "    <tr>\n",
       "      <th>50%</th>\n",
       "      <td>37.000000</td>\n",
       "      <td>10.000000</td>\n",
       "      <td>0.000000</td>\n",
       "      <td>0.000000</td>\n",
       "      <td>40.000000</td>\n",
       "    </tr>\n",
       "    <tr>\n",
       "      <th>75%</th>\n",
       "      <td>47.000000</td>\n",
       "      <td>13.000000</td>\n",
       "      <td>0.000000</td>\n",
       "      <td>0.000000</td>\n",
       "      <td>45.000000</td>\n",
       "    </tr>\n",
       "    <tr>\n",
       "      <th>max</th>\n",
       "      <td>90.000000</td>\n",
       "      <td>16.000000</td>\n",
       "      <td>99999.000000</td>\n",
       "      <td>4356.000000</td>\n",
       "      <td>99.000000</td>\n",
       "    </tr>\n",
       "  </tbody>\n",
       "</table>\n",
       "</div>"
      ],
      "text/plain": [
       "                age  education-num  capital-gain  capital-loss  hours-per-week\n",
       "count  45222.000000   45222.000000  45222.000000  45222.000000    45222.000000\n",
       "mean      38.547941      10.118460   1101.430344     88.595418       40.938017\n",
       "std       13.217870       2.552881   7506.430084    404.956092       12.007508\n",
       "min       17.000000       1.000000      0.000000      0.000000        1.000000\n",
       "25%       28.000000       9.000000      0.000000      0.000000       40.000000\n",
       "50%       37.000000      10.000000      0.000000      0.000000       40.000000\n",
       "75%       47.000000      13.000000      0.000000      0.000000       45.000000\n",
       "max       90.000000      16.000000  99999.000000   4356.000000       99.000000"
      ]
     },
     "execution_count": 8,
     "metadata": {},
     "output_type": "execute_result"
    }
   ],
   "source": [
    "df.describe()"
   ]
  },
  {
   "cell_type": "code",
   "execution_count": 9,
   "metadata": {},
   "outputs": [
    {
     "data": {
      "text/plain": [
       "age                0\n",
       "workclass          0\n",
       "education_level    0\n",
       "education-num      0\n",
       "marital-status     0\n",
       "occupation         0\n",
       "relationship       0\n",
       "race               0\n",
       "sex                0\n",
       "capital-gain       0\n",
       "capital-loss       0\n",
       "hours-per-week     0\n",
       "native-country     0\n",
       "income             0\n",
       "dtype: int64"
      ]
     },
     "execution_count": 9,
     "metadata": {},
     "output_type": "execute_result"
    }
   ],
   "source": [
    "df.isna().sum()"
   ]
  },
  {
   "cell_type": "code",
   "execution_count": 10,
   "metadata": {},
   "outputs": [
    {
     "name": "stdout",
     "output_type": "stream",
     "text": [
      "<class 'pandas.core.frame.DataFrame'>\n",
      "RangeIndex: 45222 entries, 0 to 45221\n",
      "Data columns (total 14 columns):\n",
      " #   Column           Non-Null Count  Dtype  \n",
      "---  ------           --------------  -----  \n",
      " 0   age              45222 non-null  int64  \n",
      " 1   workclass        45222 non-null  object \n",
      " 2   education_level  45222 non-null  object \n",
      " 3   education-num    45222 non-null  float64\n",
      " 4   marital-status   45222 non-null  object \n",
      " 5   occupation       45222 non-null  object \n",
      " 6   relationship     45222 non-null  object \n",
      " 7   race             45222 non-null  object \n",
      " 8   sex              45222 non-null  object \n",
      " 9   capital-gain     45222 non-null  float64\n",
      " 10  capital-loss     45222 non-null  float64\n",
      " 11  hours-per-week   45222 non-null  float64\n",
      " 12  native-country   45222 non-null  object \n",
      " 13  income           45222 non-null  object \n",
      "dtypes: float64(4), int64(1), object(9)\n",
      "memory usage: 4.8+ MB\n"
     ]
    }
   ],
   "source": [
    "df.info()"
   ]
  },
  {
   "cell_type": "markdown",
   "metadata": {},
   "source": [
    "A simple investigation of the dataset can determine how many individuals fit into either group and tell us about the percentage of these individuals making more than $50,000.\n",
    "\n",
    "Let's take a look at the following:\n",
    "\n",
    "- The total number of records: `n_records`\n",
    "\n",
    "- The number of individuals making more than $50,000 annually: `n_greater_50k`\n",
    "\n",
    "- The number of individuals making at most $50,000 annually: `n_at_most_50k`\n",
    "\n",
    "- The percentage of individuals making more than $50,000 annually: `greater_percent`\n"
   ]
  },
  {
   "cell_type": "code",
   "execution_count": 11,
   "metadata": {},
   "outputs": [
    {
     "name": "stdout",
     "output_type": "stream",
     "text": [
      "Total number of records: 45222\n",
      "Individuals making more than $50,000: 11208\n",
      "Individuals making at most $50,000: 34014\n",
      "Percentage of individuals making more than $50,000: 24.78%\n"
     ]
    }
   ],
   "source": [
    "# Total number of records\n",
    "n_records = len(df)\n",
    "\n",
    "# Number of records where individual's income is more than $50,000\n",
    "n_greater_50k = len(df[df[\"income\"]== \">50K\"])\n",
    "\n",
    "# Number of records where individual's income is at most $50,000\n",
    "n_at_most_50k = len(df[df[\"income\"]== \"<=50K\"])\n",
    "\n",
    "# Percentage of individuals whose income is more than $50,000\n",
    "greater_percent = 100 * n_greater_50k / n_records\n",
    "\n",
    "# Print the results\n",
    "print(\"Total number of records: {}\".format(n_records))\n",
    "print(\"Individuals making more than $50,000: {}\".format(n_greater_50k))\n",
    "print(\"Individuals making at most $50,000: {}\".format(n_at_most_50k))\n",
    "print(\"Percentage of individuals making more than $50,000: {:.2f}%\".format(greater_percent))\n",
    "                       "
   ]
  },
  {
   "cell_type": "markdown",
   "metadata": {},
   "source": [
    "We can also visualize the relationship between different features of an individual, and their incomes.\n",
    "\n",
    "Let's see breakdown of the counts of people earning above or below 50K based on their sex and education levels."
   ]
  },
  {
   "cell_type": "markdown",
   "metadata": {},
   "source": [
    "sns.set(style=\"whitegrid\", color_codes=True)\n",
    "sns.catplot(x=\"sex\", col='education_level', data=df, hue='income', kind=\"count\", col_wrap=4);"
   ]
  },
  {
   "cell_type": "markdown",
   "metadata": {},
   "source": [
    "### Preparing the Data\n",
    "Before data can be used as input for machine learning algorithms, it often must be cleaned, formatted, and restructured — this is typically known as *preprocessing*. Fortunately, for this dataset, there are no invalid or missing entries we must deal with, however, there are some qualities about certain features that must be adjusted. This preprocessing can help tremendously with the outcome and predictive power of nearly all learning algorithms."
   ]
  },
  {
   "cell_type": "code",
   "execution_count": 12,
   "metadata": {},
   "outputs": [
    {
     "data": {
      "text/plain": [
       "array([[<matplotlib.axes._subplots.AxesSubplot object at 0x0000015B960677C8>,\n",
       "        <matplotlib.axes._subplots.AxesSubplot object at 0x0000015B960BEC48>],\n",
       "       [<matplotlib.axes._subplots.AxesSubplot object at 0x0000015B960FABC8>,\n",
       "        <matplotlib.axes._subplots.AxesSubplot object at 0x0000015B96131D08>],\n",
       "       [<matplotlib.axes._subplots.AxesSubplot object at 0x0000015B96169E08>,\n",
       "        <matplotlib.axes._subplots.AxesSubplot object at 0x0000015B961A1F08>]],\n",
       "      dtype=object)"
      ]
     },
     "execution_count": 12,
     "metadata": {},
     "output_type": "execute_result"
    },
    {
     "data": {
      "image/png": "[encoded data removed]",
      "text/plain": [
       "<Figure size 1080x720 with 6 Axes>"
      ]
     },
     "metadata": {
      "needs_background": "light"
     },
     "output_type": "display_data"
    }
   ],
   "source": [
    "df.hist(figsize = (15,10))"
   ]
  },
  {
   "cell_type": "markdown",
   "metadata": {},
   "source": [
    "### Transforming Skewed Continuous Features"
   ]
  },
  {
   "cell_type": "code",
   "execution_count": 13,
   "metadata": {},
   "outputs": [],
   "source": [
    "# Split the data into features and target label\n",
    "y = df['income']\n",
    "X = df.drop('income', axis = 1)\n",
    "\n",
    "# Log-transform the skewed features\n",
    "skewed = ['capital-gain', 'capital-loss']\n",
    "X[skewed] = df[skewed].apply(lambda x: np.log(x + 1))"
   ]
  },
  {
   "cell_type": "code",
   "execution_count": 14,
   "metadata": {},
   "outputs": [
    {
     "data": {
      "text/plain": [
       "array([[<matplotlib.axes._subplots.AxesSubplot object at 0x0000015B9669CE08>,\n",
       "        <matplotlib.axes._subplots.AxesSubplot object at 0x0000015B96AB61C8>],\n",
       "       [<matplotlib.axes._subplots.AxesSubplot object at 0x0000015B96AED708>,\n",
       "        <matplotlib.axes._subplots.AxesSubplot object at 0x0000015B96B27108>],\n",
       "       [<matplotlib.axes._subplots.AxesSubplot object at 0x0000015B96B5DB08>,\n",
       "        <matplotlib.axes._subplots.AxesSubplot object at 0x0000015B96B994C8>]],\n",
       "      dtype=object)"
      ]
     },
     "execution_count": 14,
     "metadata": {},
     "output_type": "execute_result"
    },
    {
     "data": {
      "image/png": "[encoded data removed]",
      "text/plain": [
       "<Figure size 1080x720 with 6 Axes>"
      ]
     },
     "metadata": {
      "needs_background": "light"
     },
     "output_type": "display_data"
    }
   ],
   "source": [
    "X.hist(figsize = (15,10))"
   ]
  },
  {
   "cell_type": "code",
   "execution_count": 15,
   "metadata": {},
   "outputs": [
    {
     "data": {
      "text/html": [
       "<div>\n",
       "<style scoped>\n",
       "    .dataframe tbody tr th:only-of-type {\n",
       "        vertical-align: middle;\n",
       "    }\n",
       "\n",
       "    .dataframe tbody tr th {\n",
       "        vertical-align: top;\n",
       "    }\n",
       "\n",
       "    .dataframe thead th {\n",
       "        text-align: right;\n",
       "    }\n",
       "</style>\n",
       "<table border=\"1\" class=\"dataframe\">\n",
       "  <thead>\n",
       "    <tr style=\"text-align: right;\">\n",
       "      <th></th>\n",
       "      <th>age</th>\n",
       "      <th>workclass</th>\n",
       "      <th>education_level</th>\n",
       "      <th>education-num</th>\n",
       "      <th>marital-status</th>\n",
       "      <th>occupation</th>\n",
       "      <th>relationship</th>\n",
       "      <th>race</th>\n",
       "      <th>sex</th>\n",
       "      <th>capital-gain</th>\n",
       "      <th>capital-loss</th>\n",
       "      <th>hours-per-week</th>\n",
       "      <th>native-country</th>\n",
       "    </tr>\n",
       "  </thead>\n",
       "  <tbody>\n",
       "    <tr>\n",
       "      <th>0</th>\n",
       "      <td>0.034201</td>\n",
       "      <td>State-gov</td>\n",
       "      <td>Bachelors</td>\n",
       "      <td>1.128753</td>\n",
       "      <td>Never-married</td>\n",
       "      <td>Adm-clerical</td>\n",
       "      <td>Not-in-family</td>\n",
       "      <td>White</td>\n",
       "      <td>Male</td>\n",
       "      <td>0.142888</td>\n",
       "      <td>-0.21878</td>\n",
       "      <td>-0.078120</td>\n",
       "      <td>United-States</td>\n",
       "    </tr>\n",
       "    <tr>\n",
       "      <th>1</th>\n",
       "      <td>0.866417</td>\n",
       "      <td>Self-emp-not-inc</td>\n",
       "      <td>Bachelors</td>\n",
       "      <td>1.128753</td>\n",
       "      <td>Married-civ-spouse</td>\n",
       "      <td>Exec-managerial</td>\n",
       "      <td>Husband</td>\n",
       "      <td>White</td>\n",
       "      <td>Male</td>\n",
       "      <td>-0.146733</td>\n",
       "      <td>-0.21878</td>\n",
       "      <td>-2.326738</td>\n",
       "      <td>United-States</td>\n",
       "    </tr>\n",
       "    <tr>\n",
       "      <th>2</th>\n",
       "      <td>-0.041455</td>\n",
       "      <td>Private</td>\n",
       "      <td>HS-grad</td>\n",
       "      <td>-0.438122</td>\n",
       "      <td>Divorced</td>\n",
       "      <td>Handlers-cleaners</td>\n",
       "      <td>Not-in-family</td>\n",
       "      <td>White</td>\n",
       "      <td>Male</td>\n",
       "      <td>-0.146733</td>\n",
       "      <td>-0.21878</td>\n",
       "      <td>-0.078120</td>\n",
       "      <td>United-States</td>\n",
       "    </tr>\n",
       "    <tr>\n",
       "      <th>3</th>\n",
       "      <td>1.093385</td>\n",
       "      <td>Private</td>\n",
       "      <td>11th</td>\n",
       "      <td>-1.221559</td>\n",
       "      <td>Married-civ-spouse</td>\n",
       "      <td>Handlers-cleaners</td>\n",
       "      <td>Husband</td>\n",
       "      <td>Black</td>\n",
       "      <td>Male</td>\n",
       "      <td>-0.146733</td>\n",
       "      <td>-0.21878</td>\n",
       "      <td>-0.078120</td>\n",
       "      <td>United-States</td>\n",
       "    </tr>\n",
       "    <tr>\n",
       "      <th>4</th>\n",
       "      <td>-0.798015</td>\n",
       "      <td>Private</td>\n",
       "      <td>Bachelors</td>\n",
       "      <td>1.128753</td>\n",
       "      <td>Married-civ-spouse</td>\n",
       "      <td>Prof-specialty</td>\n",
       "      <td>Wife</td>\n",
       "      <td>Black</td>\n",
       "      <td>Female</td>\n",
       "      <td>-0.146733</td>\n",
       "      <td>-0.21878</td>\n",
       "      <td>-0.078120</td>\n",
       "      <td>Cuba</td>\n",
       "    </tr>\n",
       "  </tbody>\n",
       "</table>\n",
       "</div>"
      ],
      "text/plain": [
       "        age          workclass education_level  education-num  \\\n",
       "0  0.034201          State-gov       Bachelors       1.128753   \n",
       "1  0.866417   Self-emp-not-inc       Bachelors       1.128753   \n",
       "2 -0.041455            Private         HS-grad      -0.438122   \n",
       "3  1.093385            Private            11th      -1.221559   \n",
       "4 -0.798015            Private       Bachelors       1.128753   \n",
       "\n",
       "        marital-status          occupation    relationship    race      sex  \\\n",
       "0        Never-married        Adm-clerical   Not-in-family   White     Male   \n",
       "1   Married-civ-spouse     Exec-managerial         Husband   White     Male   \n",
       "2             Divorced   Handlers-cleaners   Not-in-family   White     Male   \n",
       "3   Married-civ-spouse   Handlers-cleaners         Husband   Black     Male   \n",
       "4   Married-civ-spouse      Prof-specialty            Wife   Black   Female   \n",
       "\n",
       "   capital-gain  capital-loss  hours-per-week  native-country  \n",
       "0      0.142888      -0.21878       -0.078120   United-States  \n",
       "1     -0.146733      -0.21878       -2.326738   United-States  \n",
       "2     -0.146733      -0.21878       -0.078120   United-States  \n",
       "3     -0.146733      -0.21878       -0.078120   United-States  \n",
       "4     -0.146733      -0.21878       -0.078120            Cuba  "
      ]
     },
     "metadata": {},
     "output_type": "display_data"
    }
   ],
   "source": [
    "from sklearn.preprocessing import StandardScaler\n",
    "\n",
    "# Initialize a scaler, then apply it to the features\n",
    "scaler = StandardScaler()\n",
    "numerical = ['age', 'education-num', 'capital-gain', 'capital-loss', 'hours-per-week']\n",
    "X[numerical] = scaler.fit_transform(df[numerical])\n",
    "\n",
    "# Show an example of a record with scaling applied\n",
    "display(X.head())"
   ]
  },
  {
   "cell_type": "markdown",
   "metadata": {},
   "source": [
    "### Data Preprocessing\n",
    "\n",
    "The table in the **\"Exploring the Data\"** section shows that several features in each record are non-numeric. Most machine learning algorithms require numerical input, necessitating the conversion of these non-numeric features (referred to as **categorical variables**). A common method for this conversion is **one-hot encoding**, which creates a \"dummy\" variable for each possible category of a non-numeric feature.\n",
    "\n",
    "In addition to converting the non-numeric features, we also need to convert the non-numeric target label **'income'** to numerical values for the learning algorithm to function correctly. Since the **'income'** label has only two categories (**\"<=50K\"** and **\">50K\"**), we can encode these categories as **0** and **1**, respectively, instead of using one-hot encoding.\n"
   ]
  },
  {
   "cell_type": "code",
   "execution_count": 16,
   "metadata": {},
   "outputs": [
    {
     "name": "stdout",
     "output_type": "stream",
     "text": [
      "103 total features after one-hot encoding.\n"
     ]
    }
   ],
   "source": [
    "# One-hot encode the features data using pandas.get_dummies()\n",
    "X = pd.get_dummies(X)\n",
    "\n",
    "# Encode the income data to numerical values\n",
    "y = y.apply(lambda x: 1 if x == '>50K' else 0)\n",
    "\n",
    "# Print the number of features after one-hot encoding\n",
    "encoded = list(X.columns)\n",
    "print(\"{} total features after one-hot encoding.\".format(len(encoded)))\n",
    "\n",
    "# Uncomment the following line to see the encoded feature names \n",
    "# print encoded\n",
    "# Left uncommented due to output size"
   ]
  },
  {
   "cell_type": "markdown",
   "metadata": {},
   "source": [
    "### Train Test Split\n",
    "\n",
    "With all categorical variables converted into numerical features and all numerical features normalized, we are ready to split the data into training and test sets. As usual, we will use 80% of the data for training and reserve the remaining 20% for testing."
   ]
  },
  {
   "cell_type": "code",
   "execution_count": 17,
   "metadata": {},
   "outputs": [
    {
     "name": "stdout",
     "output_type": "stream",
     "text": [
      "Training set has 36177 samples.\n",
      "Testing set has 9045 samples.\n"
     ]
    }
   ],
   "source": [
    "# Import train_test_split\n",
    "from sklearn.model_selection import train_test_split\n",
    "\n",
    "# Split the 'features' and 'income' data into training and testing sets\n",
    "X_train , X_test , y_train , y_test = train_test_split(X,y,test_size= 0.2 , random_state = 42)\n",
    "\n",
    "# Show the results of the split\n",
    "print(\"Training set has {} samples.\".format(X_train.shape[0]))\n",
    "print(\"Testing set has {} samples.\".format(X_test.shape[0]))"
   ]
  },
  {
   "cell_type": "markdown",
   "metadata": {},
   "source": [
    "### Evaluating Model Performance\n",
    "In this section, we will investigate four different algorithms, and determine which is best at modeling the data."
   ]
  },
  {
   "cell_type": "markdown",
   "metadata": {},
   "source": [
    "#### Metrics and the Naive Predictor\n",
    "\n",
    "*CharityML* aims to accurately predict individuals earning more than **`$50,000`**, as these individuals are more likely to donate to their charity. While **accuracy** might seem like an appropriate metric for evaluating model performance, it is crucial to prioritize **precision** over recall in this scenario. Incorrectly identifying individuals who earn less than **`$50,000`** as potential donors would be detrimental. Thus, *CharityML* focuses on a model's ability to precisely identify those who make over **`$50,000`**.\n",
    "\n",
    "To balance the considerations of both precision and recall, the **F-beta score** is used as the evaluation metric. The **F-beta score** allows for a weighted evaluation that emphasizes **precision** in predicting\n",
    "\n"
   ]
  },
  {
   "cell_type": "markdown",
   "metadata": {},
   "source": [
    "\n",
    "$$\n",
    "F_{\\beta} = (1 + \\beta^2) \\cdot \\frac{{\\text{precision} \\cdot \\text{recall}}}{{\\beta^2 \\cdot \\text{precision} + \\text{recall}}}\n",
    "$$\n"
   ]
  },
  {
   "cell_type": "markdown",
   "metadata": {},
   "source": [
    "In particular, when ${\\beta} = 0.5$ , more emphasis is placed on precision.\n",
    "\n",
    "When analyzing the distribution of income classes—specifically, those earning at most **`$50,000`** and those earning more—it becomes evident that the majority of individuals fall into the former category. This imbalance significantly impacts accuracy metrics because a simplistic approach could achieve high accuracy by always predicting \"this person does not make more than **`$50,000`**\" and generally being correct without examining the data. This approach would be considered naive because it lacks substantiating evidence.\n",
    "\n",
    "It is essential to acknowledge this naive prediction as a baseline when evaluating model performance. However, relying on such a prediction would be impractical for CharityML, as predicting all individuals earn less than **`$50,000`** would result in identifying no potential donors.\n",
    "\n"
   ]
  },
  {
   "cell_type": "markdown",
   "metadata": {},
   "source": [
    "### *Naive Predictor Performace*\n",
    "\n",
    "What if we chose a model that always predicted an individual made more than $50,000, what would that model's accuracy and F-score be on this dataset?"
   ]
  },
  {
   "cell_type": "code",
   "execution_count": 19,
   "metadata": {},
   "outputs": [
    {
     "name": "stdout",
     "output_type": "stream",
     "text": [
      "Naive Predictor: [Accuracy score: 0.2478, F-score: 0.2917]\n"
     ]
    }
   ],
   "source": [
    "# Calculate accuracy\n",
    "accuracy = n_greater_50k / n_records\n",
    "\n",
    "# Calculating precision\n",
    "precision = n_greater_50k / (n_greater_50k + n_at_most_50k)\n",
    "\n",
    "#Calculating recall\n",
    "recall = n_greater_50k / (n_greater_50k + 0)\n",
    "\n",
    "# Calculate F-score using the formula above for beta = 0.5\n",
    "fscore =  (1  + (0.5*0.5)) * ( precision * recall / (( 0.5*0.5 * (precision))+ recall))\n",
    "\n",
    "# Print the results \n",
    "print(\"Naive Predictor: [Accuracy score: {:.4f}, F-score: {:.4f}]\".format(accuracy, fscore))"
   ]
  },
  {
   "cell_type": "markdown",
   "metadata": {},
   "source": [
    "## Supervise ML Models\n",
    "### Model Application\n",
    "\n",
    "Now we'll pick sixsupervised learning models above that are appropriate for this problem, and test them on the census data.\n",
    "\n",
    "### Decision Trees\n",
    "\n",
    "**Real World Application:** Decision Trees, such as CART, are utilized in financial analysis for predicting stock performance based on historical data.\n",
    "\n",
    "**Strengths:**\n",
    "- Able to handle both categorical and numerical data.\n",
    "- Minimal data preprocessing required; can handle unnormalized or non-encoded data.\n",
    "- Simple to understand and interpret.\n",
    "\n",
    "**Weaknesses:**\n",
    "- Complex trees can overfit and generalize poorly.\n",
    "- Prone to instability; small variations in data can lead to different trees.\n",
    "- Bias towards dominant classes can result in biased trees.\n",
    "\n",
    "**Candidacy:** Decision Trees are suitable due to their capability to handle mixed data types and simplicity in interpretation, which is beneficial for understanding model decisions in our dataset.\n",
    "\n",
    "### Support Vector Machines (SVM)\n",
    "\n",
    "**Real World Application:** SVMs are applied in image classification tasks like face detection.\n",
    "\n",
    "**Strengths:**\n",
    "- Effective in high-dimensional spaces with many features.\n",
    "- Versatile due to customizable kernel functions.\n",
    "\n",
    "**Weaknesses:**\n",
    "- Inefficient with large datasets.\n",
    "- Does not provide direct probability estimates.\n",
    "\n",
    "**Candidacy:** SVMs are chosen for their effectiveness in high-dimensional spaces, making them suitable for datasets with numerous features like ours, even after incorporating dummy variables.\n",
    "\n",
    "### Ensemble Methods: AdaBoost\n",
    "\n",
    "**Real World Application:** AdaBoost is used in object detection in images, such as identifying players during a basketball game.\n",
    "\n",
    "**Strengths:**\n",
    "- Robustness and improved generalizability compared to single models.\n",
    "- Combines simple models to create a complex model efficiently.\n",
    "\n",
    "**Weaknesses:**\n",
    "- Sensitive to biased underlying classifiers.\n",
    "\n",
    "**Candidacy:** AdaBoost is selected for its high-quality classification abilities and robustness to class imbalances, which is beneficial for our dataset.\n",
    "\n",
    "### Logistic Regression\n",
    "\n",
    "**Real World Application:** Logistic Regression is commonly used in medical research for predicting disease outcomes based on patient characteristics.\n",
    "\n",
    "**Strengths:**\n",
    "- Provides probabilities for outcomes.\n",
    "- Simple and efficient to implement.\n",
    "\n",
    "**Weaknesses:**\n",
    "- Assumes a linear relationship between features and the log-odds of the outcome.\n",
    "\n",
    "**Candidacy:** Logistic Regression is appropriate due to its simplicity, efficiency, and ability to provide interpretable probability estimates, which are valuable for our classification problem.\n",
    "\n",
    "### K-Nearest Neighbors (KNN)\n",
    "\n",
    "**Real World Application:** KNN is applied in recommendation systems for recommending products based on user preferences.\n",
    "\n",
    "**Strengths:**\n",
    "- Non-parametric and does not make assumptions about the underlying data distribution.\n",
    "- Simple to understand and implement.\n",
    "\n",
    "**Weaknesses:**\n",
    "- Computationally expensive for large datasets.\n",
    "- Sensitivity to the choice of distance metric.\n",
    "\n",
    "**Candidacy:** KNN is suitable for our problem due to its simplicity and effectiveness in handling non-linear relationships between features.\n",
    "\n",
    "### Random Forest\n",
    "\n",
    "**Real World Application:** Random Forests are used in ecological modeling for species distribution prediction.\n",
    "\n",
    "**Strengths:**\n",
    "- Robust against overfitting compared to single decision trees.\n",
    "- Handles high-dimensional data well.\n",
    "\n",
    "**Weaknesses:**\n",
    "- Can be slow to evaluate due to multiple trees.\n",
    "\n",
    "**Candidacy:** Random Forests are chosen for their ability to mitigate overfitting and handle high-dimensional data effectively, making them suitable for our dataset.\n"
   ]
  },
  {
   "cell_type": "markdown",
   "metadata": {},
   "source": [
    "### Model Evaluation "
   ]
  },
  {
   "cell_type": "code",
   "execution_count": 22,
   "metadata": {},
   "outputs": [
    {
     "name": "stdout",
     "output_type": "stream",
     "text": [
      "Training and evaluating Decision Trees...\n",
      "Decision Trees Accuracy: 0.8195\n",
      "Training and evaluating Support Vector Machines (SVM)...\n",
      "Support Vector Machines (SVM) Accuracy: 0.8559\n",
      "Training and evaluating Ensemble Methods: AdaBoost...\n",
      "Ensemble Methods: AdaBoost Accuracy: 0.8607\n",
      "Training and evaluating Logistic Regression...\n"
     ]
    },
    {
     "name": "stderr",
     "output_type": "stream",
     "text": [
      "C:\\Users\\Aryan Agarwal\\anaconda3\\Anaconda3\\lib\\site-packages\\sklearn\\linear_model\\_logistic.py:940: ConvergenceWarning: lbfgs failed to converge (status=1):\n",
      "STOP: TOTAL NO. of ITERATIONS REACHED LIMIT.\n",
      "\n",
      "Increase the number of iterations (max_iter) or scale the data as shown in:\n",
      "    https://scikit-learn.org/stable/modules/preprocessing.html\n",
      "Please also refer to the documentation for alternative solver options:\n",
      "    https://scikit-learn.org/stable/modules/linear_model.html#logistic-regression\n",
      "  extra_warning_msg=_LOGISTIC_SOLVER_CONVERGENCE_MSG)\n"
     ]
    },
    {
     "name": "stdout",
     "output_type": "stream",
     "text": [
      "Logistic Regression Accuracy: 0.8510\n",
      "Training and evaluating K-Nearest Neighbors (KNN)...\n",
      "K-Nearest Neighbors (KNN) Accuracy: 0.8357\n",
      "Training and evaluating Random Forest...\n",
      "Random Forest Accuracy: 0.8463\n"
     ]
    },
    {
     "data": {
      "image/png": "[encoded data removed]",
      "text/plain": [
       "<Figure size 1080x720 with 6 Axes>"
      ]
     },
     "metadata": {
      "needs_background": "light"
     },
     "output_type": "display_data"
    }
   ],
   "source": [
    "# Importing necessary libraries and models\n",
    "from sklearn.tree import DecisionTreeClassifier\n",
    "from sklearn.svm import SVC\n",
    "from sklearn.ensemble import AdaBoostClassifier, RandomForestClassifier\n",
    "from sklearn.linear_model import LogisticRegression\n",
    "from sklearn.neighbors import KNeighborsClassifier\n",
    "from sklearn.metrics import accuracy_score, confusion_matrix\n",
    "import matplotlib.pyplot as plt\n",
    "import seaborn as sns\n",
    "\n",
    "\n",
    "# Define a list of tuples containing model names and their respective classifiers\n",
    "models = [\n",
    "    ('Decision Trees', DecisionTreeClassifier()),\n",
    "    ('Support Vector Machines (SVM)', SVC()),\n",
    "    ('Ensemble Methods: AdaBoost', AdaBoostClassifier()),\n",
    "    ('Logistic Regression', LogisticRegression()),\n",
    "    ('K-Nearest Neighbors (KNN)', KNeighborsClassifier()),\n",
    "    ('Random Forest', RandomForestClassifier())\n",
    "]\n",
    "\n",
    "# Set up the matplotlib figure\n",
    "plt.figure(figsize=(15, 10))\n",
    "\n",
    "# Iterate over the list of models\n",
    "for i, (model_name, model_instance) in enumerate(models, start=1):\n",
    "    plt.subplot(2, 3, i)\n",
    "    \n",
    "    print(f\"Training and evaluating {model_name}...\")\n",
    "    \n",
    "    # Train the model\n",
    "    model_instance.fit(X_train, y_train)\n",
    "    \n",
    "    # Predict on the test set\n",
    "    y_pred = model_instance.predict(X_test)\n",
    "    \n",
    "    # Calculate accuracy\n",
    "    accuracy = accuracy_score(y_test, y_pred)\n",
    "    print(f\"{model_name} Accuracy: {accuracy:.4f}\")\n",
    "    \n",
    "    # Calculate confusion matrix\n",
    "    cm = confusion_matrix(y_test, y_pred)\n",
    "    \n",
    "    # Plot confusion matrix with Seaborn heatmap\n",
    "    sns.heatmap(cm, annot=True, cmap='Blues', fmt='d', cbar=False, \n",
    "                annot_kws={'fontsize': 12, 'fontweight': 'bold'})\n",
    "    \n",
    "    plt.title(f\"{model_name}\\nAccuracy: {accuracy:.4f}\", fontsize=14)\n",
    "    plt.xlabel('Predicted Labels', fontsize=12)\n",
    "    plt.ylabel('True Labels', fontsize=12)\n",
    "    plt.xticks(fontsize=10)\n",
    "    plt.yticks(fontsize=10)\n",
    "\n",
    "plt.tight_layout()\n",
    "plt.show()\n"
   ]
  },
  {
   "cell_type": "markdown",
   "metadata": {},
   "source": [
    "### AdaBoost Model Tunning\n",
    "\n",
    "To enhance our model's performance, we will utilize grid search (`GridSearchCV`) with various parameter combinations. Specifically, for AdaBoost, we aim to optimize parameters such as `n_estimators` and `learning_rate`. Additionally, since the base classifier for AdaBoost is a Decision Tree, we will also tune parameters related to the base classifier.\n"
   ]
  },
  {
   "cell_type": "code",
   "execution_count": 24,
   "metadata": {},
   "outputs": [
    {
     "name": "stdout",
     "output_type": "stream",
     "text": [
      "Best Parameters:\n",
      "{'base_estimator__max_depth': 2, 'base_estimator__min_samples_split': 2, 'learning_rate': 0.5, 'n_estimators': 120}\n",
      "Best Accuracy Score on Training Set: 0.8683\n",
      "Accuracy Score on Test Set after Hyperparameter Tuning: 0.8727\n"
     ]
    }
   ],
   "source": [
    "from sklearn.model_selection import GridSearchCV\n",
    "from sklearn.metrics import accuracy_score\n",
    "import numpy as np\n",
    "\n",
    "\n",
    "# Define AdaBoost classifier with base estimator\n",
    "base_estimator = DecisionTreeClassifier(random_state=42)\n",
    "adaboost = AdaBoostClassifier(base_estimator=base_estimator, random_state=42)\n",
    "\n",
    "# Define parameters for GridSearchCV\n",
    "parameters = {\n",
    "    'n_estimators': [50, 120],\n",
    "    'learning_rate': [0.1, 0.5, 1.0],\n",
    "    'base_estimator__min_samples_split': np.arange(2, 8, 2),\n",
    "    'base_estimator__max_depth': np.arange(1, 4, 1)\n",
    "}\n",
    "\n",
    "# Perform GridSearchCV with cross-validation\n",
    "grid_search = GridSearchCV(adaboost, param_grid=parameters, cv=5, scoring='accuracy')\n",
    "grid_search.fit(X_train, y_train)\n",
    "\n",
    "# Get best parameters and best score\n",
    "best_params = grid_search.best_params_\n",
    "best_score = grid_search.best_score_\n",
    "\n",
    "# Print best parameters found and best score on training set\n",
    "print(\"Best Parameters:\")\n",
    "print(best_params)\n",
    "print(f\"Best Accuracy Score on Training Set: {best_score:.4f}\")\n",
    "\n",
    "# Evaluate on test set with best estimator found\n",
    "best_adaboost = grid_search.best_estimator_\n",
    "y_pred = best_adaboost.predict(X_test)\n",
    "\n",
    "# Calculate accuracy on test set after tuning\n",
    "new_accuracy = accuracy_score(y_test, y_pred)\n",
    "print(f\"Accuracy Score on Test Set after Hyperparameter Tuning: {new_accuracy:.4f}\")\n"
   ]
  },
  {
   "cell_type": "markdown",
   "metadata": {},
   "source": [
    "### Conclusion\n",
    "\n",
    "In this project, we developed and evaluated an AdaBoost model to predict individuals' income levels based on data from the 1994 U.S. Census. Our model achieved an accuracy of 87.27% in classifying whether a person earns more than $50,000 annually. This accuracy indicates that our supervised learning approach using AdaBoost is effective in predicting income brackets, which is crucial for non-profit organizations seeking potential donors. By leveraging publicly available census data, we have demonstrated how machine learning can assist in identifying and targeting individuals likely to contribute to charitable causes. Moving forward, further refinements and optimizations to the model could potentially enhance its predictive power and applicability in real-world scenarios.\n"
   ]
  },
  {
   "cell_type": "code",
   "execution_count": null,
   "metadata": {},
   "outputs": [],
   "source": []
  }
 ],
 "metadata": {
  "kernelspec": {
   "display_name": "Python 3",
   "language": "python",
   "name": "python3"
  },
  "language_info": {
   "codemirror_mode": {
    "name": "ipython",
    "version": 3
   },
   "file_extension": ".py",
   "mimetype": "text/x-python",
   "name": "python",
   "nbconvert_exporter": "python",
   "pygments_lexer": "ipython3",
   "version": "3.7.6"
  }
 },
 "nbformat": 4,
 "nbformat_minor": 4
}
